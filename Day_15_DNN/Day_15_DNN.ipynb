{
 "cells": [
  {
   "cell_type": "markdown",
   "metadata": {},
   "source": [
    "# Day 14| DNN(CNN)"
   ]
  },
  {
   "cell_type": "markdown",
   "metadata": {},
   "source": [
    "刻一個孿生網路來做數字辨識，什麼是孿生網路？\n",
    "1. https://zhuanlan.zhihu.com/p/29058453\n",
    "2. [one-shot learning](https://www.youtube.com/watch?v=r8LLorRACPM)"
   ]
  },
  {
   "cell_type": "code",
   "execution_count": 1,
   "metadata": {},
   "outputs": [
    {
     "name": "stderr",
     "output_type": "stream",
     "text": [
      "/Users/apple/anaconda3/lib/python3.6/site-packages/h5py/__init__.py:36: FutureWarning: Conversion of the second argument of issubdtype from `float` to `np.floating` is deprecated. In future, it will be treated as `np.float64 == np.dtype(float).type`.\n",
      "  from ._conv import register_converters as _register_converters\n"
     ]
    }
   ],
   "source": [
    "import numpy as np\n",
    "import matplotlib.pyplot as plt\n",
    "import tensorflow as tf\n",
    "from tensorflow.examples.tutorials.mnist import input_data"
   ]
  },
  {
   "cell_type": "code",
   "execution_count": 2,
   "metadata": {},
   "outputs": [],
   "source": [
    "### load dataset\n",
    "(X_train, y_train), (X_test, y_test) = tf.keras.datasets.mnist.load_data()"
   ]
  },
  {
   "cell_type": "code",
   "execution_count": 25,
   "metadata": {},
   "outputs": [],
   "source": [
    "#### transform into one-hot\n",
    "y_train = np.eye(10)[y_train]\n",
    "y_test = np.eye(10)[y_test]"
   ]
  },
  {
   "cell_type": "code",
   "execution_count": null,
   "metadata": {},
   "outputs": [],
   "source": [
    "### data preprocessing 之後再做，做一個function，給類別跟batch_size會圖片"
   ]
  },
  {
   "cell_type": "markdown",
   "metadata": {},
   "source": [
    "## Siamese network"
   ]
  },
  {
   "cell_type": "markdown",
   "metadata": {},
   "source": [
    "#### config"
   ]
  },
  {
   "cell_type": "code",
   "execution_count": 27,
   "metadata": {},
   "outputs": [],
   "source": [
    "batch_size = 32\n",
    "epoch = 50\n",
    "kernel_size = (3,3)\n",
    "pooling_size = (2,2)\n",
    "learning_rate = 0.001"
   ]
  },
  {
   "cell_type": "markdown",
   "metadata": {},
   "source": [
    "#### graph"
   ]
  },
  {
   "cell_type": "code",
   "execution_count": 26,
   "metadata": {},
   "outputs": [],
   "source": [
    "tf.reset_default_graph()"
   ]
  },
  {
   "cell_type": "code",
   "execution_count": null,
   "metadata": {},
   "outputs": [],
   "source": [
    "siamese_nn = tf.Graph()\n",
    "with siamese_nn.as_default():\n",
    "\n",
    "    with tf.name_scope('input'):\n",
    "        anchor_img = tf.placeholder(dtype = tf.float32, shape = (None, 28, 28), name = 'anchor_image')\n",
    "        compare_img = tf.placeholder(dtype = tf.float32, shape = (None, 28, 28), name = 'compare_image')\n",
    "        \n",
    "    with tf.variable_scope('siamese_net'):\n",
    "        conv_s1_1 = tf.layers.conv2d(anchor_img, filters= 64, kernel_size= kernel_size, activation= tf.nn.relu, name= 'siamese_1')\n",
    "        conv_s1_1 = tf.layers.max_pooling2d(conv_s1_1, pool_size= pooling_size, stride = (1,1), name= 'siamese_1')\n",
    "        \n",
    "        conv_s1_2 = tf.layers.conv2d(conv_s1_1, filters = 32, kernel_size = kernel_size, activation= tf.nn.relu, name= 'siamese_2')\n",
    "        conv_s1_2 = tf.layers.max_pooling2d(conv_s1_2, pool_size = pooling_size, stride = (1,1), name= 'siamese_2')\n",
    "\n",
    "        conv_s1_3 = tf.layers.conv2d(conv_s1_2, filters = 16, kernel_size = kernel_size, activation= tf.nn.relu, name= 'siamese_3')\n",
    "        conv_s1_3 = tf.layers.max_pooling2d(conv_s1_3, pool_size = pooling_size, stride = (1,1), name= 'siamese_3')\n",
    "        \n",
    "        anchor_vector = tf.layers.flatten(conv_s1_3)\n",
    "    \n",
    "    with tf.variable_scope('siamese_net', reuse= True):\n",
    "        \n",
    "        conv_s2_1 = tf.layers.conv2d(compare_img, filters= 64, kernel_size= kernel_size, activation= tf.nn.relu, name= 'siamese_1')\n",
    "        conv_s2_1 = tf.layers.max_pooling2d(conv_s2_1, pool_size= pooling_size, stride = (1,1), name= 'siamese_1')\n",
    "        \n",
    "        conv_s2_2 = tf.layers.conv2d(conv_s2_1, filters = 32, kernel_size = kernel_size, activation= tf.nn.relu, name= 'siamese_2')\n",
    "        conv_s2_2 = tf.layers.max_pooling2d(conv_s2_2, pool_size = pooling_size, stride = (1,1), name= 'siamese_2')\n",
    "\n",
    "        conv_s2_3 = tf.layers.conv2d(conv_s2_2, filters = 16, kernel_size = kernel_size, activation= tf.nn.relu, name= 'siamese_3')\n",
    "        conv_s2_3 = tf.layers.max_pooling2d(conv_s2_3, pool_size = pooling_size, stride = (1,1), name= 'siamese_3')\n",
    "        \n",
    "        compare_vector = tf.layers.flatten(conv_s1_3)\n",
    "        \n",
    "        \n",
    "        "
   ]
  }
 ],
 "metadata": {
  "kernelspec": {
   "display_name": "Python 3",
   "language": "python",
   "name": "python3"
  },
  "language_info": {
   "codemirror_mode": {
    "name": "ipython",
    "version": 3
   },
   "file_extension": ".py",
   "mimetype": "text/x-python",
   "name": "python",
   "nbconvert_exporter": "python",
   "pygments_lexer": "ipython3",
   "version": "3.6.4"
  }
 },
 "nbformat": 4,
 "nbformat_minor": 2
}
