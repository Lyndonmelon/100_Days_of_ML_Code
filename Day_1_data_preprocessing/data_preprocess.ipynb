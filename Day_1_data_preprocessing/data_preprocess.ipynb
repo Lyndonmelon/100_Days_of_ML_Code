{
 "cells": [
  {
   "cell_type": "markdown",
   "metadata": {},
   "source": [
    "# Day 1 | Data preprocessing\n",
    "_____"
   ]
  },
  {
   "cell_type": "markdown",
   "metadata": {},
   "source": [
    "#### 資料前處理不管是在資料探勘、機器學習都是非常重要的一個步驟，也可說是最重要的一個步驟與最花時間的一個步驟（60-70%)。若沒做好，就算使用了再強的模型或演算法可能都不會有好的結果。\n",
    "在此整理出幾個有關資料前處理的相關資源參考：\n",
    "1. 目前最火的100 days ML code 挑戰 Avik-Jain：https://github.com/Avik-Jain/100-Days-Of-ML-Code/blob/master/Code/Day%201_Data%20PreProcessing.md\n",
    "2. https://medium.com/@yehjames/%E8%B3%87%E6%96%99%E5%88%86%E6%9E%90-%E6%A9%9F%E5%99%A8%E5%AD%B8%E7%BF%92-%E7%AC%AC2-4%E8%AC%9B-%E8%B3%87%E6%96%99%E5%89%8D%E8%99%95%E7%90%86-missing-data-one-hot-encoding-feature-scaling-3b70a7839b4a\n"
   ]
  },
  {
   "cell_type": "markdown",
   "metadata": {},
   "source": [
    "### 使用數據: House Prices: Advanced Regression Techniques on Kaggle\n",
    "數據與競賽連結：https://www.kaggle.com/c/house-prices-advanced-regression-techniques"
   ]
  },
  {
   "cell_type": "markdown",
   "metadata": {},
   "source": [
    "#### import libraries\n",
    "在做資料前處理時我們需要先import幾個套件以利我們有效處理資料，常用的套件分別是以下：\n",
    "1. numpy: 全名叫 numerical Python, 是一個有可以有效處理大量資料的python套件。 發音：有人唸囊拍，有人唸囊批 :)\n",
    "2. pandas： pandas是一個base on numpy的套件，同樣適合大量的資料處理，可以將它想像成一個強大的Excel。\n",
    "3. matplotlib：視覺化工具，可以畫出各種統計圖表以及各種視覺化圖表。"
   ]
  },
  {
   "cell_type": "code",
   "execution_count": 14,
   "metadata": {},
   "outputs": [],
   "source": [
    "import numpy as np       # import numpy 套件且取名為np\n",
    "import pandas as pd      # import pandas 套件且取名為pd\n",
    "import matplotlib.pyplot as plt  # import matplotlib 中 pyplot 套件且取名為plt\n",
    "%matplotlib inline"
   ]
  },
  {
   "cell_type": "markdown",
   "metadata": {},
   "source": [
    "_____\n",
    "## Data Input and Output (read file)\n",
    "----"
   ]
  },
  {
   "cell_type": "markdown",
   "metadata": {},
   "source": [
    "### pandas 中有幾個比較重要且常用的的功能如下，要熟記如何使用：\n",
    "* Series\n",
    "* DataFrames\n",
    "* Missing Data\n",
    "* GroupBy\n",
    "* Merging,Joining,and Concatenating\n",
    "* Operations\n",
    "* Data Input and Output\n",
    "\n",
    "相關資源請參考下面連結：\n",
    "1. https://medium.com/@yehjames/%E8%B3%87%E6%96%99%E5%88%86%E6%9E%90-%E6%A9%9F%E5%99%A8%E5%AD%B8%E7%BF%92-%E7%AC%AC2-3%E8%AC%9B-pandas-%E5%9F%BA%E6%9C%ACfunction%E4%BB%8B%E7%B4%B9-series-dataframe-selection-grouping-447a3fa90b60"
   ]
  },
  {
   "cell_type": "markdown",
   "metadata": {},
   "source": [
    "使用pandas中read_csv的function讀取.csv檔案，視檔名的不同使用的方法不同"
   ]
  },
  {
   "cell_type": "code",
   "execution_count": 96,
   "metadata": {},
   "outputs": [],
   "source": [
    "train_data = pd.read_csv('./data_house_priceing_prediction/train.csv')"
   ]
  },
  {
   "cell_type": "code",
   "execution_count": 7,
   "metadata": {},
   "outputs": [
    {
     "data": {
      "text/plain": [
       "pandas.core.frame.DataFrame"
      ]
     },
     "execution_count": 7,
     "metadata": {},
     "output_type": "execute_result"
    }
   ],
   "source": [
    "type(train_data)  ## 讀取進來的檔案格式是pandas.Dataframe，而我們利用Dataframe格式資料做資料處理會比較方便"
   ]
  },
  {
   "cell_type": "code",
   "execution_count": 9,
   "metadata": {},
   "outputs": [
    {
     "name": "stdout",
     "output_type": "stream",
     "text": [
      "<class 'pandas.core.frame.DataFrame'>\n",
      "RangeIndex: 1460 entries, 0 to 1459\n",
      "Data columns (total 81 columns):\n",
      "Id               1460 non-null int64\n",
      "MSSubClass       1460 non-null int64\n",
      "MSZoning         1460 non-null object\n",
      "LotFrontage      1201 non-null float64\n",
      "LotArea          1460 non-null int64\n",
      "Street           1460 non-null object\n",
      "Alley            91 non-null object\n",
      "LotShape         1460 non-null object\n",
      "LandContour      1460 non-null object\n",
      "Utilities        1460 non-null object\n",
      "LotConfig        1460 non-null object\n",
      "LandSlope        1460 non-null object\n",
      "Neighborhood     1460 non-null object\n",
      "Condition1       1460 non-null object\n",
      "Condition2       1460 non-null object\n",
      "BldgType         1460 non-null object\n",
      "HouseStyle       1460 non-null object\n",
      "OverallQual      1460 non-null int64\n",
      "OverallCond      1460 non-null int64\n",
      "YearBuilt        1460 non-null int64\n",
      "YearRemodAdd     1460 non-null int64\n",
      "RoofStyle        1460 non-null object\n",
      "RoofMatl         1460 non-null object\n",
      "Exterior1st      1460 non-null object\n",
      "Exterior2nd      1460 non-null object\n",
      "MasVnrType       1452 non-null object\n",
      "MasVnrArea       1452 non-null float64\n",
      "ExterQual        1460 non-null object\n",
      "ExterCond        1460 non-null object\n",
      "Foundation       1460 non-null object\n",
      "BsmtQual         1423 non-null object\n",
      "BsmtCond         1423 non-null object\n",
      "BsmtExposure     1422 non-null object\n",
      "BsmtFinType1     1423 non-null object\n",
      "BsmtFinSF1       1460 non-null int64\n",
      "BsmtFinType2     1422 non-null object\n",
      "BsmtFinSF2       1460 non-null int64\n",
      "BsmtUnfSF        1460 non-null int64\n",
      "TotalBsmtSF      1460 non-null int64\n",
      "Heating          1460 non-null object\n",
      "HeatingQC        1460 non-null object\n",
      "CentralAir       1460 non-null object\n",
      "Electrical       1459 non-null object\n",
      "1stFlrSF         1460 non-null int64\n",
      "2ndFlrSF         1460 non-null int64\n",
      "LowQualFinSF     1460 non-null int64\n",
      "GrLivArea        1460 non-null int64\n",
      "BsmtFullBath     1460 non-null int64\n",
      "BsmtHalfBath     1460 non-null int64\n",
      "FullBath         1460 non-null int64\n",
      "HalfBath         1460 non-null int64\n",
      "BedroomAbvGr     1460 non-null int64\n",
      "KitchenAbvGr     1460 non-null int64\n",
      "KitchenQual      1460 non-null object\n",
      "TotRmsAbvGrd     1460 non-null int64\n",
      "Functional       1460 non-null object\n",
      "Fireplaces       1460 non-null int64\n",
      "FireplaceQu      770 non-null object\n",
      "GarageType       1379 non-null object\n",
      "GarageYrBlt      1379 non-null float64\n",
      "GarageFinish     1379 non-null object\n",
      "GarageCars       1460 non-null int64\n",
      "GarageArea       1460 non-null int64\n",
      "GarageQual       1379 non-null object\n",
      "GarageCond       1379 non-null object\n",
      "PavedDrive       1460 non-null object\n",
      "WoodDeckSF       1460 non-null int64\n",
      "OpenPorchSF      1460 non-null int64\n",
      "EnclosedPorch    1460 non-null int64\n",
      "3SsnPorch        1460 non-null int64\n",
      "ScreenPorch      1460 non-null int64\n",
      "PoolArea         1460 non-null int64\n",
      "PoolQC           7 non-null object\n",
      "Fence            281 non-null object\n",
      "MiscFeature      54 non-null object\n",
      "MiscVal          1460 non-null int64\n",
      "MoSold           1460 non-null int64\n",
      "YrSold           1460 non-null int64\n",
      "SaleType         1460 non-null object\n",
      "SaleCondition    1460 non-null object\n",
      "SalePrice        1460 non-null int64\n",
      "dtypes: float64(3), int64(35), object(43)\n",
      "memory usage: 924.0+ KB\n"
     ]
    }
   ],
   "source": [
    "train_data.info()   ## 使用.info()顯示該資料的資訊，而可以看出這份房價資料缺失值相當多，是一份“蠻髒”的資料"
   ]
  },
  {
   "cell_type": "markdown",
   "metadata": {},
   "source": [
    "____\n",
    "# Visulization \n",
    "---------------\n",
    "利用matplotlib套件將資料視覺化，本次使用的資料，僅僅只有1460筆，也無法逐筆利用表格觀察，因此資料視覺化非常重要。"
   ]
  },
  {
   "cell_type": "code",
   "execution_count": 16,
   "metadata": {},
   "outputs": [
    {
     "data": {
      "image/png": "[encoded data removed]",
      "text/plain": [
       "<matplotlib.figure.Figure at 0x112cc6550>"
      ]
     },
     "metadata": {},
     "output_type": "display_data"
    }
   ],
   "source": [
    "price_dist = plt.hist(train_data.SalePrice, bins=100)  ## 由直方圖來看，可以看出房價是呈現右偏的型態，通常針對偏態的數據都會做處理，\n",
    "                                                       ## 像是取log或是使用預處理套件標準化。"
   ]
  },
  {
   "cell_type": "code",
   "execution_count": 18,
   "metadata": {},
   "outputs": [
    {
     "data": {
      "text/html": [
       "<div>\n",
       "<style scoped>\n",
       "    .dataframe tbody tr th:only-of-type {\n",
       "        vertical-align: middle;\n",
       "    }\n",
       "\n",
       "    .dataframe tbody tr th {\n",
       "        vertical-align: top;\n",
       "    }\n",
       "\n",
       "    .dataframe thead th {\n",
       "        text-align: right;\n",
       "    }\n",
       "</style>\n",
       "<table border=\"1\" class=\"dataframe\">\n",
       "  <thead>\n",
       "    <tr style=\"text-align: right;\">\n",
       "      <th></th>\n",
       "      <th>Id</th>\n",
       "      <th>MSSubClass</th>\n",
       "      <th>MSZoning</th>\n",
       "      <th>LotFrontage</th>\n",
       "      <th>LotArea</th>\n",
       "      <th>Street</th>\n",
       "      <th>Alley</th>\n",
       "      <th>LotShape</th>\n",
       "      <th>LandContour</th>\n",
       "      <th>Utilities</th>\n",
       "      <th>...</th>\n",
       "      <th>PoolArea</th>\n",
       "      <th>PoolQC</th>\n",
       "      <th>Fence</th>\n",
       "      <th>MiscFeature</th>\n",
       "      <th>MiscVal</th>\n",
       "      <th>MoSold</th>\n",
       "      <th>YrSold</th>\n",
       "      <th>SaleType</th>\n",
       "      <th>SaleCondition</th>\n",
       "      <th>SalePrice</th>\n",
       "    </tr>\n",
       "  </thead>\n",
       "  <tbody>\n",
       "    <tr>\n",
       "      <th>0</th>\n",
       "      <td>1</td>\n",
       "      <td>60</td>\n",
       "      <td>RL</td>\n",
       "      <td>65.0</td>\n",
       "      <td>8450</td>\n",
       "      <td>Pave</td>\n",
       "      <td>NaN</td>\n",
       "      <td>Reg</td>\n",
       "      <td>Lvl</td>\n",
       "      <td>AllPub</td>\n",
       "      <td>...</td>\n",
       "      <td>0</td>\n",
       "      <td>NaN</td>\n",
       "      <td>NaN</td>\n",
       "      <td>NaN</td>\n",
       "      <td>0</td>\n",
       "      <td>2</td>\n",
       "      <td>2008</td>\n",
       "      <td>WD</td>\n",
       "      <td>Normal</td>\n",
       "      <td>208500</td>\n",
       "    </tr>\n",
       "    <tr>\n",
       "      <th>1</th>\n",
       "      <td>2</td>\n",
       "      <td>20</td>\n",
       "      <td>RL</td>\n",
       "      <td>80.0</td>\n",
       "      <td>9600</td>\n",
       "      <td>Pave</td>\n",
       "      <td>NaN</td>\n",
       "      <td>Reg</td>\n",
       "      <td>Lvl</td>\n",
       "      <td>AllPub</td>\n",
       "      <td>...</td>\n",
       "      <td>0</td>\n",
       "      <td>NaN</td>\n",
       "      <td>NaN</td>\n",
       "      <td>NaN</td>\n",
       "      <td>0</td>\n",
       "      <td>5</td>\n",
       "      <td>2007</td>\n",
       "      <td>WD</td>\n",
       "      <td>Normal</td>\n",
       "      <td>181500</td>\n",
       "    </tr>\n",
       "    <tr>\n",
       "      <th>2</th>\n",
       "      <td>3</td>\n",
       "      <td>60</td>\n",
       "      <td>RL</td>\n",
       "      <td>68.0</td>\n",
       "      <td>11250</td>\n",
       "      <td>Pave</td>\n",
       "      <td>NaN</td>\n",
       "      <td>IR1</td>\n",
       "      <td>Lvl</td>\n",
       "      <td>AllPub</td>\n",
       "      <td>...</td>\n",
       "      <td>0</td>\n",
       "      <td>NaN</td>\n",
       "      <td>NaN</td>\n",
       "      <td>NaN</td>\n",
       "      <td>0</td>\n",
       "      <td>9</td>\n",
       "      <td>2008</td>\n",
       "      <td>WD</td>\n",
       "      <td>Normal</td>\n",
       "      <td>223500</td>\n",
       "    </tr>\n",
       "    <tr>\n",
       "      <th>3</th>\n",
       "      <td>4</td>\n",
       "      <td>70</td>\n",
       "      <td>RL</td>\n",
       "      <td>60.0</td>\n",
       "      <td>9550</td>\n",
       "      <td>Pave</td>\n",
       "      <td>NaN</td>\n",
       "      <td>IR1</td>\n",
       "      <td>Lvl</td>\n",
       "      <td>AllPub</td>\n",
       "      <td>...</td>\n",
       "      <td>0</td>\n",
       "      <td>NaN</td>\n",
       "      <td>NaN</td>\n",
       "      <td>NaN</td>\n",
       "      <td>0</td>\n",
       "      <td>2</td>\n",
       "      <td>2006</td>\n",
       "      <td>WD</td>\n",
       "      <td>Abnorml</td>\n",
       "      <td>140000</td>\n",
       "    </tr>\n",
       "    <tr>\n",
       "      <th>4</th>\n",
       "      <td>5</td>\n",
       "      <td>60</td>\n",
       "      <td>RL</td>\n",
       "      <td>84.0</td>\n",
       "      <td>14260</td>\n",
       "      <td>Pave</td>\n",
       "      <td>NaN</td>\n",
       "      <td>IR1</td>\n",
       "      <td>Lvl</td>\n",
       "      <td>AllPub</td>\n",
       "      <td>...</td>\n",
       "      <td>0</td>\n",
       "      <td>NaN</td>\n",
       "      <td>NaN</td>\n",
       "      <td>NaN</td>\n",
       "      <td>0</td>\n",
       "      <td>12</td>\n",
       "      <td>2008</td>\n",
       "      <td>WD</td>\n",
       "      <td>Normal</td>\n",
       "      <td>250000</td>\n",
       "    </tr>\n",
       "  </tbody>\n",
       "</table>\n",
       "<p>5 rows × 81 columns</p>\n",
       "</div>"
      ],
      "text/plain": [
       "   Id  MSSubClass MSZoning  LotFrontage  LotArea Street Alley LotShape  \\\n",
       "0   1          60       RL         65.0     8450   Pave   NaN      Reg   \n",
       "1   2          20       RL         80.0     9600   Pave   NaN      Reg   \n",
       "2   3          60       RL         68.0    11250   Pave   NaN      IR1   \n",
       "3   4          70       RL         60.0     9550   Pave   NaN      IR1   \n",
       "4   5          60       RL         84.0    14260   Pave   NaN      IR1   \n",
       "\n",
       "  LandContour Utilities    ...     PoolArea PoolQC Fence MiscFeature MiscVal  \\\n",
       "0         Lvl    AllPub    ...            0    NaN   NaN         NaN       0   \n",
       "1         Lvl    AllPub    ...            0    NaN   NaN         NaN       0   \n",
       "2         Lvl    AllPub    ...            0    NaN   NaN         NaN       0   \n",
       "3         Lvl    AllPub    ...            0    NaN   NaN         NaN       0   \n",
       "4         Lvl    AllPub    ...            0    NaN   NaN         NaN       0   \n",
       "\n",
       "  MoSold YrSold  SaleType  SaleCondition  SalePrice  \n",
       "0      2   2008        WD         Normal     208500  \n",
       "1      5   2007        WD         Normal     181500  \n",
       "2      9   2008        WD         Normal     223500  \n",
       "3      2   2006        WD        Abnorml     140000  \n",
       "4     12   2008        WD         Normal     250000  \n",
       "\n",
       "[5 rows x 81 columns]"
      ]
     },
     "execution_count": 18,
     "metadata": {},
     "output_type": "execute_result"
    }
   ],
   "source": [
    "train_data.head() ## .head()為列出該資料集前五筆資料，若要增加可在.head()中參數項設定，由此可以比較若直接使用文字資料較不易看出趨勢或問題。"
   ]
  },
  {
   "cell_type": "markdown",
   "metadata": {},
   "source": [
    "#### 其他視覺化範例"
   ]
  },
  {
   "cell_type": "code",
   "execution_count": 55,
   "metadata": {},
   "outputs": [
    {
     "data": {
      "text/plain": [
       "Text(0,0.5,'SalePrice')"
      ]
     },
     "execution_count": 55,
     "metadata": {},
     "output_type": "execute_result"
    },
    {
     "data": {
      "image/png": "[encoded data removed]",
      "text/plain": [
       "<matplotlib.figure.Figure at 0x1a21be4748>"
      ]
     },
     "metadata": {},
     "output_type": "display_data"
    }
   ],
   "source": [
    "### 居住空間與房價資料散佈圖\n",
    "ax = plt.subplot()\n",
    "ax.scatter(train_data.GrLivArea, train_data.SalePrice)\n",
    "ax.set_title('GrliveArea vs SalePrice')\n",
    "ax.set_xlabel('GrLivArea')\n",
    "ax.set_ylabel('SalePrice')"
   ]
  },
  {
   "cell_type": "markdown",
   "metadata": {},
   "source": [
    "### 另外一個視覺化套 seaborn\n",
    "相較於matplotlib，seaborn我認為畫出來的圖比較漂亮，而且使用起來也比較直觀一些，seaborn是一個base on matplotlib的API，詳細的使用方式與說明可以參考以下的資料：\n",
    "1. https://seaborn.pydata.org/\n",
    "2. https://medium.com/@yehjames/%E8%B3%87%E6%96%99%E5%88%86%E6%9E%90-%E6%A9%9F%E5%99%A8%E5%AD%B8%E7%BF%92-%E7%AC%AC2-5%E8%AC%9B-%E8%B3%87%E6%96%99%E8%A6%96%E8%A6%BA%E5%8C%96-matplotlib-seaborn-plotly-75cd353d6d3f"
   ]
  },
  {
   "cell_type": "code",
   "execution_count": 53,
   "metadata": {},
   "outputs": [
    {
     "data": {
      "text/plain": [
       "<matplotlib.axes._subplots.AxesSubplot at 0x1a21806a90>"
      ]
     },
     "execution_count": 53,
     "metadata": {},
     "output_type": "execute_result"
    },
    {
     "data": {
      "image/png": "[encoded data removed]",
      "text/plain": [
       "<matplotlib.figure.Figure at 0x1a1fc9fb70>"
      ]
     },
     "metadata": {},
     "output_type": "display_data"
    }
   ],
   "source": [
    "null_rate = train_data.isnull().sum() / len(train_data) *100\n",
    "null_rate = null_rate[null_rate > 0]\n",
    "null_rate = null_rate.sort_values(ascending=False)\n",
    "\n",
    "import seaborn as sns\n",
    "plt.figure(figsize=(20,8))\n",
    "plt.xticks(rotation = 90, fontsize = 15)\n",
    "plt.yticks(fontsize = 15)\n",
    "plt.title(\"Percent Missing data by Feature\", fontsize = 15)\n",
    "plt.xlabel(\"Features\", fontsize = 15)\n",
    "plt.ylabel(\"Rate(%)\", fontsize = 15)\n",
    "sns.barplot(x = null_rate.index, y = null_rate)"
   ]
  },
  {
   "cell_type": "code",
   "execution_count": 59,
   "metadata": {},
   "outputs": [
    {
     "data": {
      "text/plain": [
       "Text(0.5,1,'GrliveArea vs SalePrice')"
      ]
     },
     "execution_count": 59,
     "metadata": {},
     "output_type": "execute_result"
    },
    {
     "data": {
      "image/png": "[encoded data removed]",
      "text/plain": [
       "<matplotlib.figure.Figure at 0x1a21be4f60>"
      ]
     },
     "metadata": {},
     "output_type": "display_data"
    }
   ],
   "source": [
    "### 與上面同樣的圖，但是透過seaborn可以畫出趨勢線，而且也比較少行程式碼。\n",
    "sns.lmplot(x = 'GrLivArea', y = 'SalePrice', data = train_data)\n",
    "plt.title('GrliveArea vs SalePrice')"
   ]
  },
  {
   "cell_type": "markdown",
   "metadata": {},
   "source": [
    "_____\n",
    "# handle missing data\n",
    "____"
   ]
  },
  {
   "cell_type": "markdown",
   "metadata": {},
   "source": [
    "通常在處理缺失值是非常重要的，而缺失值的種類可分為幾類，也可以藉由缺失值來了解缺失原因。\n",
    "推薦學習資源參考連結：\n",
    "1. https://zhuanlan.zhihu.com/p/40775756\n",
    "\n",
    "而對應缺失值的辦法可以簡單分為幾種： 1. 直接刪除 2. 填補缺失值 3. 不處理\n",
    "\n",
    "另外對應缺失值的方式也會因為資料類型不同而補植方式不一樣，如類別型資料、數值型資料、時間等等。\n",
    "\n",
    "#### 在處理缺失值我們會使用到scikit-learn套件"
   ]
  },
  {
   "cell_type": "code",
   "execution_count": 88,
   "metadata": {},
   "outputs": [],
   "source": [
    "from sklearn.preprocessing import Imputer"
   ]
  },
  {
   "cell_type": "markdown",
   "metadata": {},
   "source": [
    "### 直接刪除\n",
    "直接刪除雖然簡單，但是資訊損失的最多。 可以直接使用pandas.Dataframe中的.dropna() 或 drop() function."
   ]
  },
  {
   "cell_type": "code",
   "execution_count": 97,
   "metadata": {},
   "outputs": [],
   "source": [
    "null_index = list(null_rate.index[:5])  ## 選擇捨棄掉前五個缺失值比例最高的features\n",
    "train_data_drop = train_data.drop(null_index, axis = 1)\n",
    "train_data_drop = train_data_drop.dropna()   ## 再將其他資料若有缺失值的資料都刪除\n",
    "# train_data_drop.info()"
   ]
  },
  {
   "cell_type": "markdown",
   "metadata": {},
   "source": [
    "### 填補缺失值\n",
    "填補缺失值的做法有非常多種，比較常用的像是以平均數填補、以眾數填補等。"
   ]
  },
  {
   "cell_type": "code",
   "execution_count": 98,
   "metadata": {},
   "outputs": [],
   "source": [
    "Bsmt_ls = ['BsmtFinSF1','BsmtFinSF2','BsmtUnfSF','TotalBsmtSF','BsmtHalfBath','BsmtFullBath']\n",
    "Garg_ls = ['GarageCond','GarageQual','GarageFinish','GarageType','FireplaceQu']\n",
    "\n",
    "for item in Bsmt_ls:  ## 我選擇將跟地下室有關的數據全部以平均值補值\n",
    "    train_data[item].fillna(train_data[item].mean(), inplace = True)   \n",
    "    \n",
    "for item in Garg_ls:  ## 有關車庫的類別型資料我將缺失職補值為NAN（文字）\n",
    "    train_data[item].fillna('NAN', inplace = True)\n",
    "    \n",
    "## 在此也可以使用sklearn的套件做補值，但是比較麻煩的是要轉換成array的型態才能夠丟進Imputer\n",
    "\n",
    "# train_data_Bsmt = train_data[Bsmt_ls].values\n",
    "# imputer = Imputer()\n",
    "# train_data_Bsmt = imputer.fit_transform(train_data_Bsmt)\n",
    "# train_data.info()"
   ]
  },
  {
   "cell_type": "markdown",
   "metadata": {},
   "source": [
    "### 不處理\n",
    "有些模型是可以處理缺失值的情況的，像是XGboost等模型。"
   ]
  },
  {
   "cell_type": "markdown",
   "metadata": {},
   "source": [
    "-----\n",
    "# Encoding\n",
    "-----"
   ]
  },
  {
   "cell_type": "markdown",
   "metadata": {},
   "source": [
    "在此指的是處理類別型的資料，因為類別型（文字）資料沒有辦法丟進data中訓練，因此要將它轉換成數值型的data，而最常使用的方式就是one-hot encoding 以及 label encoding。\n",
    "\n",
    "首先要先import相關套件："
   ]
  },
  {
   "cell_type": "code",
   "execution_count": 99,
   "metadata": {},
   "outputs": [],
   "source": [
    "from sklearn.preprocessing import OneHotEncoder, LabelEncoder"
   ]
  },
  {
   "cell_type": "code",
   "execution_count": 157,
   "metadata": {},
   "outputs": [],
   "source": [
    "## 這裡使用剛剛跟車庫有關的類別型資料\n",
    "## 因為“車庫狀況”的資訊應該是有程度上的差異，因此這裡使用labelencoder，將feature轉換成0,1,2,3,4,5的標籤\n",
    "enc_label = LabelEncoder()\n",
    "garage_cond = train_data.GarageCond\n",
    "garage_cond_label = enc_label.fit_transform(garage_cond.values)\n",
    "garage_cond = pd.DataFrame({'original_feature': garage_cond.values,\n",
    "                           'transformed_feature': garage_cond_label})\n",
    "# garage_cond.sample(20)\n",
    "\n",
    "\n",
    "## One-hot encoder 的作法，如果資料之間並沒有程度上的差異，可以使用one-hot encoding，可以直接使用pandas中的方法\n",
    "## 另外注意在做dummies variable時，\n",
    "garage_type = pd.get_dummies(train_data.GarageType, drop_first= True)\n",
    "# print(garage_type)\n",
    "\n",
    "\n",
    "## 以下是sklearn的做法，個人認為比較麻煩，因為要先將類別型資料轉換為int，也就是先使用labelencoder之後，才能使用one-hot\n",
    "# enc_One = OneHotEncoder(sparse=True)\n",
    "# garage_type = train_data.GarageType.values\n",
    "# garage_type = enc_label.fit_transform(garage_type)\n",
    "# garage_type = garage_type.reshape(-1,1)\n",
    "# garage_one_hot = enc_One.fit_transform(garage_type).toarray()\n",
    "# print(garage_one_hot)"
   ]
  },
  {
   "cell_type": "markdown",
   "metadata": {},
   "source": [
    "___\n",
    "# split training and testing data\n",
    "___"
   ]
  },
  {
   "cell_type": "markdown",
   "metadata": {},
   "source": [
    "若先前的資料都處理好了後，就要將資料集分為training 以及testing，而這個步驟很簡單，因為scikit-learn套件有一個非常方便的功能。\n",
    "\n",
    "首先來import相關套件："
   ]
  },
  {
   "cell_type": "code",
   "execution_count": 158,
   "metadata": {},
   "outputs": [],
   "source": [
    "from sklearn.model_selection import train_test_split"
   ]
  },
  {
   "cell_type": "code",
   "execution_count": 159,
   "metadata": {},
   "outputs": [
    {
     "name": "stdout",
     "output_type": "stream",
     "text": [
      "訓練資料集:  1022\n",
      "測試資料集:  438\n"
     ]
    }
   ],
   "source": [
    "## 只需要使用這個套件就可以輕易將訓練與測試資料節分開\n",
    "## 在train_test_split function中調整test_size，以及random_state。\n",
    "X = train_data.drop(['SalePrice'], axis = 1)\n",
    "y = train_data.SalePrice\n",
    "X_train, X_test, y_train, y_test = train_test_split(X, y, test_size=0.3, random_state=42)\n",
    "print(\"訓練資料集: \", len(X_train))\n",
    "print(\"測試資料集: \", len(X_test))"
   ]
  },
  {
   "cell_type": "markdown",
   "metadata": {},
   "source": [
    "____\n",
    "# Feature scaling\n",
    "____"
   ]
  },
  {
   "cell_type": "markdown",
   "metadata": {},
   "source": [
    "最後來到了特徵縮放的步驟，此步驟也可以透過scikit-learn套件來實現，而對於特徵縮放的相關資料連結如下：\n",
    "1. https://blog.csdn.net/pipisorry/article/details/52247679\n",
    "\n",
    "首先來import相關套件：       (這裡需要說明一下，因為在前面沒有完整的將資料清理乾淨，因此無法將全部的training data直接fit進去，因此取幾個feature練習）"
   ]
  },
  {
   "cell_type": "code",
   "execution_count": 190,
   "metadata": {},
   "outputs": [],
   "source": [
    "from sklearn.preprocessing import StandardScaler, scale  ## 而其實特徵縮放也有更多的方法，像是MinMaxScaler函數，是將數值壓到0-1之間等等"
   ]
  },
  {
   "cell_type": "code",
   "execution_count": 189,
   "metadata": {},
   "outputs": [
    {
     "name": "stderr",
     "output_type": "stream",
     "text": [
      "/Users/apple/anaconda3/lib/python3.6/site-packages/sklearn/utils/validation.py:475: DataConversionWarning: Data with input dtype int64 was converted to float64 by the scale function.\n",
      "  warnings.warn(msg, DataConversionWarning)\n",
      "/Users/apple/anaconda3/lib/python3.6/site-packages/sklearn/utils/validation.py:475: DataConversionWarning: Data with input dtype int64 was converted to float64 by StandardScaler.\n",
      "  warnings.warn(msg, DataConversionWarning)\n"
     ]
    },
    {
     "data": {
      "image/png": "[encoded data removed]",
      "text/plain": [
       "<matplotlib.figure.Figure at 0x1a237a7048>"
      ]
     },
     "metadata": {},
     "output_type": "display_data"
    }
   ],
   "source": [
    "### 若使用scale沒有設定平均值與標準差，則等於轉換為平均值為0之常態分佈\n",
    "GrLivArea_original = X_train.GrLivArea.values.reshape(-1,1)\n",
    "fig, ax = plt.subplots(3,1)\n",
    "ax[0].hist(GrLivArea_original, bins = 100)\n",
    "GrLivArea_transform = scale(GrLivArea_original)\n",
    "ax[1].hist(GrLivArea_transform, bins = 100)\n",
    "\n",
    "### 若使用StandarScalar則要先宣告後fit，宣告時可以設定標轉差與平均值\n",
    "stand_s = StandardScaler()\n",
    "GrLivArea_transform_2 = stand_s.fit_transform(GrLivArea_original)\n",
    "ax[2].hist(GrLivArea_transform_2, bins = 100)\n",
    "fig.tight_layout()\n"
   ]
  },
  {
   "cell_type": "markdown",
   "metadata": {},
   "source": [
    "#### 其實這個不算完整的data preprocessing，但是在AIA課程中已經有練習過，因此利用同樣的題目來筆記。也可以多參考kaggle神人們的kernel，會相當有幫助！"
   ]
  },
  {
   "cell_type": "code",
   "execution_count": null,
   "metadata": {},
   "outputs": [],
   "source": []
  }
 ],
 "metadata": {
  "kernelspec": {
   "display_name": "Python 3",
   "language": "python",
   "name": "python3"
  },
  "language_info": {
   "codemirror_mode": {
    "name": "ipython",
    "version": 3
   },
   "file_extension": ".py",
   "mimetype": "text/x-python",
   "name": "python",
   "nbconvert_exporter": "python",
   "pygments_lexer": "ipython3",
   "version": "3.6.4"
  }
 },
 "nbformat": 4,
 "nbformat_minor": 2
}
